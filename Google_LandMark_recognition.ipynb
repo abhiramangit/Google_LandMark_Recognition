{
 "cells": [
  {
   "cell_type": "code",
   "execution_count": 39,
   "metadata": {},
   "outputs": [],
   "source": [
    "import PIL\n",
    "import numpy as np \n",
    "import os\n",
    "import re\n",
    "from PIL import Image\n",
    "import pandas as pd\n",
    "from keras.preprocessing.image import ImageDataGenerator\n",
    "import keras\n",
    "import tensorflow as tf\n",
    "from keras.callbacks import ModelCheckpoint\n",
    "from keras.models import Sequential\n",
    "from keras.layers import Conv2D,MaxPooling2D,Activation,Dropout,Flatten,Dense\n",
    "\n",
    "#import re\n",
    "#from keras.utils import to_categorical"
   ]
  },
  {
   "cell_type": "code",
   "execution_count": 48,
   "metadata": {},
   "outputs": [
    {
     "name": "stdout",
     "output_type": "stream",
     "text": [
      "<keras.optimizers.Adam object at 0x0000007DD0F09F98>\n"
     ]
    }
   ],
   "source": [
    "print(keras.optimizers.Adam(lr=0.01))\n"
   ]
  },
  {
   "cell_type": "code",
   "execution_count": 59,
   "metadata": {},
   "outputs": [
    {
     "ename": "ValueError",
     "evalue": "Input 0 is incompatible with layer conv2d_94: expected ndim=4, found ndim=5",
     "output_type": "error",
     "traceback": [
      "\u001b[1;31m---------------------------------------------------------------------------\u001b[0m",
      "\u001b[1;31mValueError\u001b[0m                                Traceback (most recent call last)",
      "\u001b[1;32m<ipython-input-59-c80d1e4b074e>\u001b[0m in \u001b[0;36m<module>\u001b[1;34m\u001b[0m\n\u001b[0;32m     12\u001b[0m \u001b[0minput_shape\u001b[0m \u001b[1;33m=\u001b[0m \u001b[1;33m(\u001b[0m\u001b[0mbatch_size\u001b[0m\u001b[1;33m,\u001b[0m\u001b[1;36m128\u001b[0m\u001b[1;33m,\u001b[0m\u001b[1;36m128\u001b[0m\u001b[1;33m,\u001b[0m\u001b[1;36m3\u001b[0m\u001b[1;33m)\u001b[0m\u001b[1;33m\u001b[0m\u001b[1;33m\u001b[0m\u001b[0m\n\u001b[0;32m     13\u001b[0m \u001b[0mmodel\u001b[0m \u001b[1;33m=\u001b[0m \u001b[0mSequential\u001b[0m\u001b[1;33m(\u001b[0m\u001b[1;33m)\u001b[0m\u001b[1;33m\u001b[0m\u001b[1;33m\u001b[0m\u001b[0m\n\u001b[1;32m---> 14\u001b[1;33m \u001b[0mmodel\u001b[0m\u001b[1;33m.\u001b[0m\u001b[0madd\u001b[0m\u001b[1;33m(\u001b[0m\u001b[0mConv2D\u001b[0m\u001b[1;33m(\u001b[0m\u001b[0mfilters\u001b[0m \u001b[1;33m=\u001b[0m \u001b[1;36m16\u001b[0m\u001b[1;33m,\u001b[0m \u001b[0mkernel_size\u001b[0m \u001b[1;33m=\u001b[0m\u001b[1;33m(\u001b[0m\u001b[1;36m4\u001b[0m\u001b[1;33m,\u001b[0m\u001b[1;36m4\u001b[0m\u001b[1;33m)\u001b[0m\u001b[1;33m,\u001b[0m \u001b[0mactivation\u001b[0m\u001b[1;33m=\u001b[0m\u001b[1;34m'relu'\u001b[0m\u001b[1;33m,\u001b[0m\u001b[0minput_shape\u001b[0m \u001b[1;33m=\u001b[0m \u001b[0minput_shape\u001b[0m\u001b[1;33m)\u001b[0m\u001b[1;33m)\u001b[0m\u001b[1;31m##(113x113x16)\u001b[0m\u001b[1;33m\u001b[0m\u001b[1;33m\u001b[0m\u001b[0m\n\u001b[0m\u001b[0;32m     15\u001b[0m \u001b[0mmodel\u001b[0m\u001b[1;33m.\u001b[0m\u001b[0madd\u001b[0m\u001b[1;33m(\u001b[0m\u001b[0mMaxPooling2D\u001b[0m\u001b[1;33m(\u001b[0m\u001b[0mpool_size\u001b[0m\u001b[1;33m=\u001b[0m\u001b[1;36m2\u001b[0m\u001b[1;33m)\u001b[0m\u001b[1;33m)\u001b[0m\u001b[1;33m\u001b[0m\u001b[1;33m\u001b[0m\u001b[0m\n\u001b[0;32m     16\u001b[0m \u001b[1;33m\u001b[0m\u001b[0m\n",
      "\u001b[1;32mc:\\users\\abhishek\\desktop\\keras_try\\lib\\site-packages\\keras\\engine\\sequential.py\u001b[0m in \u001b[0;36madd\u001b[1;34m(self, layer)\u001b[0m\n\u001b[0;32m    163\u001b[0m                     \u001b[1;31m# and create the node connecting the current layer\u001b[0m\u001b[1;33m\u001b[0m\u001b[1;33m\u001b[0m\u001b[1;33m\u001b[0m\u001b[0m\n\u001b[0;32m    164\u001b[0m                     \u001b[1;31m# to the input layer we just created.\u001b[0m\u001b[1;33m\u001b[0m\u001b[1;33m\u001b[0m\u001b[1;33m\u001b[0m\u001b[0m\n\u001b[1;32m--> 165\u001b[1;33m                     \u001b[0mlayer\u001b[0m\u001b[1;33m(\u001b[0m\u001b[0mx\u001b[0m\u001b[1;33m)\u001b[0m\u001b[1;33m\u001b[0m\u001b[1;33m\u001b[0m\u001b[0m\n\u001b[0m\u001b[0;32m    166\u001b[0m                     \u001b[0mset_inputs\u001b[0m \u001b[1;33m=\u001b[0m \u001b[1;32mTrue\u001b[0m\u001b[1;33m\u001b[0m\u001b[1;33m\u001b[0m\u001b[0m\n\u001b[0;32m    167\u001b[0m             \u001b[1;32melse\u001b[0m\u001b[1;33m:\u001b[0m\u001b[1;33m\u001b[0m\u001b[1;33m\u001b[0m\u001b[0m\n",
      "\u001b[1;32mc:\\users\\abhishek\\desktop\\keras_try\\lib\\site-packages\\keras\\engine\\base_layer.py\u001b[0m in \u001b[0;36m__call__\u001b[1;34m(self, inputs, **kwargs)\u001b[0m\n\u001b[0;32m    412\u001b[0m                 \u001b[1;31m# Raise exceptions in case the input is not compatible\u001b[0m\u001b[1;33m\u001b[0m\u001b[1;33m\u001b[0m\u001b[1;33m\u001b[0m\u001b[0m\n\u001b[0;32m    413\u001b[0m                 \u001b[1;31m# with the input_spec specified in the layer constructor.\u001b[0m\u001b[1;33m\u001b[0m\u001b[1;33m\u001b[0m\u001b[1;33m\u001b[0m\u001b[0m\n\u001b[1;32m--> 414\u001b[1;33m                 \u001b[0mself\u001b[0m\u001b[1;33m.\u001b[0m\u001b[0massert_input_compatibility\u001b[0m\u001b[1;33m(\u001b[0m\u001b[0minputs\u001b[0m\u001b[1;33m)\u001b[0m\u001b[1;33m\u001b[0m\u001b[1;33m\u001b[0m\u001b[0m\n\u001b[0m\u001b[0;32m    415\u001b[0m \u001b[1;33m\u001b[0m\u001b[0m\n\u001b[0;32m    416\u001b[0m                 \u001b[1;31m# Collect input shapes to build layer.\u001b[0m\u001b[1;33m\u001b[0m\u001b[1;33m\u001b[0m\u001b[1;33m\u001b[0m\u001b[0m\n",
      "\u001b[1;32mc:\\users\\abhishek\\desktop\\keras_try\\lib\\site-packages\\keras\\engine\\base_layer.py\u001b[0m in \u001b[0;36massert_input_compatibility\u001b[1;34m(self, inputs)\u001b[0m\n\u001b[0;32m    309\u001b[0m                                      \u001b[0mself\u001b[0m\u001b[1;33m.\u001b[0m\u001b[0mname\u001b[0m \u001b[1;33m+\u001b[0m \u001b[1;34m': expected ndim='\u001b[0m \u001b[1;33m+\u001b[0m\u001b[1;33m\u001b[0m\u001b[1;33m\u001b[0m\u001b[0m\n\u001b[0;32m    310\u001b[0m                                      \u001b[0mstr\u001b[0m\u001b[1;33m(\u001b[0m\u001b[0mspec\u001b[0m\u001b[1;33m.\u001b[0m\u001b[0mndim\u001b[0m\u001b[1;33m)\u001b[0m \u001b[1;33m+\u001b[0m \u001b[1;34m', found ndim='\u001b[0m \u001b[1;33m+\u001b[0m\u001b[1;33m\u001b[0m\u001b[1;33m\u001b[0m\u001b[0m\n\u001b[1;32m--> 311\u001b[1;33m                                      str(K.ndim(x)))\n\u001b[0m\u001b[0;32m    312\u001b[0m             \u001b[1;32mif\u001b[0m \u001b[0mspec\u001b[0m\u001b[1;33m.\u001b[0m\u001b[0mmax_ndim\u001b[0m \u001b[1;32mis\u001b[0m \u001b[1;32mnot\u001b[0m \u001b[1;32mNone\u001b[0m\u001b[1;33m:\u001b[0m\u001b[1;33m\u001b[0m\u001b[1;33m\u001b[0m\u001b[0m\n\u001b[0;32m    313\u001b[0m                 \u001b[0mndim\u001b[0m \u001b[1;33m=\u001b[0m \u001b[0mK\u001b[0m\u001b[1;33m.\u001b[0m\u001b[0mndim\u001b[0m\u001b[1;33m(\u001b[0m\u001b[0mx\u001b[0m\u001b[1;33m)\u001b[0m\u001b[1;33m\u001b[0m\u001b[1;33m\u001b[0m\u001b[0m\n",
      "\u001b[1;31mValueError\u001b[0m: Input 0 is incompatible with layer conv2d_94: expected ndim=4, found ndim=5"
     ]
    }
   ],
   "source": [
    "\n",
    "model = Sequential()\n",
    "model.add(Conv2D(filters = 16, kernel_size =(4,4), activation='relu',input_shape = input_shape))##(113x113x16)\n",
    "model.add(MaxPooling2D(pool_size=2))\n",
    "\n",
    "model.add(Conv2D(filters=32, kernel_size=(3,3), padding='same', activation='relu'))## (81x81x32)\n",
    "batch_norm()\n",
    "model.add(MaxPooling2D(pool_size=2))\n",
    "\n",
    "model.add(Conv2D(filters=64, kernel_size=(2,2), padding='same', activation='relu'))\n",
    "model.add(MaxPooling2D(pool_size=2))\n",
    "\n",
    "model.add(Conv2D(filters=128, kernel_size=(1,1), padding='same', activation='relu'))\n",
    "model.add(MaxPooling2D(pool_size=2))\n",
    "\n",
    "model.add(Conv2D(filters=256, kernel_size=(1,1), padding='same', activation='relu'))\n",
    "model.add(MaxPooling2D(pool_size=2))\n",
    "\n",
    "model.add(Flatten())\n",
    "model.add(Dense(1024, activation='relu'))\n",
    "model.add(Dropout(0.4))\n",
    "model.add(Dense(512, activation='relu'))\n",
    "model.add(Dropout(0.2))\n",
    "model.add(Dense(100, activation='softmax'))\n",
    "\n",
    "model.summary()\n",
    "loss_fn = tf.keras.losses.BinaryCrossentropy()\n",
    "optimizer_fn = keras.optimizers.Adam(lr=0.01, decay=1e-6)\n",
    "model.compile(optimizer=optimizer_fn, loss=loss_fn, metrics=['accuracy'])    "
   ]
  },
  {
   "cell_type": "code",
   "execution_count": 26,
   "metadata": {},
   "outputs": [
    {
     "name": "stdout",
     "output_type": "stream",
     "text": [
      "                 id                                                url\n",
      "0  cb9998b8cdaf6235  https://lh3.googleusercontent.com/-q8B91vDIQZY...\n",
      "1  30728cf6e50a6bc6  https://lh3.googleusercontent.com/-91gJSKTgv5Q...\n",
      "2  16afbc86b710337d  https://lh3.googleusercontent.com/-GHZdXuf2wMg...\n",
      "3  d29b2166cf522450  https://lh3.googleusercontent.com/-cWDnYNQhyws...\n",
      "4  dd5c03b20c21cfba  https://lh3.googleusercontent.com/-PSLN6BloM-k...\n"
     ]
    }
   ],
   "source": [
    "train_path = r\"C:\\Users\\Abhishek\\Desktop\\keras_try\\train.csv\"\n",
    "test_path = r\"C:\\Users\\Abhishek\\Desktop\\keras_try\\test.csv\"\n",
    "train_df = pd.read_csv(train_path)\n",
    "test_df = pd.read_csv(test_path)\n",
    "print(train_df.head())"
   ]
  },
  {
   "cell_type": "code",
   "execution_count": 27,
   "metadata": {},
   "outputs": [
    {
     "name": "stdout",
     "output_type": "stream",
     "text": [
      "                       id                                                url  \\\n",
      "782      8eb0ef107f9d7d84  http://lh6.ggpht.com/-Ea-useaeDrg/R-na8eB_8rI/...   \n",
      "960      fbc10425aad4cb54  http://lh4.ggpht.com/-2MZrXMPSLw0/RnUp9VYNYYI/...   \n",
      "1287     866ae5aeb8ac8ff9  https://lh4.googleusercontent.com/-Toq7n7DLZPk...   \n",
      "1830     87718c752b782e3f  http://lh5.ggpht.com/-2vNIqWW_LTc/SSn01Rw6TxI/...   \n",
      "1904     8d6ef2913366c8f1  http://lh3.ggpht.com/-m7xtm_ZI4So/Tiv5Cp-l2SI/...   \n",
      "2009     95bdda5ca38eaa91  https://lh3.googleusercontent.com/-pnAwBOVTGnU...   \n",
      "2281     4be9afadac49ddbe  https://lh5.googleusercontent.com/-k6uK-PGbc0w...   \n",
      "2389     b159c578ddbd83cd  https://lh3.googleusercontent.com/-yi9kf8HdaDo...   \n",
      "2634     c15ab5dc5ea52764  http://lh4.ggpht.com/-11CefaFo_6A/S8y7QnOl0NI/...   \n",
      "2730     b37300b72d53e643  https://lh6.googleusercontent.com/-Rb-m3IfMdyw...   \n",
      "2879     ef1258022b39f976  https://lh6.googleusercontent.com/-AxvO240eyQo...   \n",
      "2945     dea49188ba49c70b  https://lh6.googleusercontent.com/-z82zm7vNrCM...   \n",
      "3231     f84ad5bdc0fb79a8  https://lh6.googleusercontent.com/-UWGEkr-4kIw...   \n",
      "3397     6fab69ad64ac7ed0  https://lh4.googleusercontent.com/-oEEOznhXOAs...   \n",
      "3623     34608eab371e9a37  http://lh4.ggpht.com/-aK9oGIee2hk/Sr8WWAlUykI/...   \n",
      "3704     5cb66465497e8890  https://lh4.googleusercontent.com/-o_3peUmUfxw...   \n",
      "3707     829723693b5c4e4d  https://lh4.googleusercontent.com/-__4bohWCPq8...   \n",
      "3782     2bf7e505029a6741  https://lh5.googleusercontent.com/-zXkDIRAbnnE...   \n",
      "3837     beca9816e0e5972d  http://mw2.google.com/mw-panoramio/photos/medi...   \n",
      "3839     d42ebf79146aff53  https://lh5.googleusercontent.com/-vCQDLk0ne8o...   \n",
      "3868     babb89f69ba48488  https://lh6.googleusercontent.com/-j3A2mdW6aEk...   \n",
      "3904     f4b0251d8097e9fb  https://lh3.googleusercontent.com/-ljWQgNFGZgk...   \n",
      "4045     59a6d785b120fcc2  http://lh5.ggpht.com/-fF-l6YwfHkQ/Sge3iLYR4TI/...   \n",
      "4092     9601d930feb0bfb8  https://lh4.googleusercontent.com/-GzxFIopLXyo...   \n",
      "4163     26e9386922e9a7ff  https://lh4.googleusercontent.com/-yQwbgfKi_tQ...   \n",
      "4258     405674be594cdf22  http://lh3.ggpht.com/-wCeBojX3M5I/SPPJ1wrIbdI/...   \n",
      "4400     bdf8859eb3ede387  http://lh3.ggpht.com/-7CsOo3bwQ2Q/TOwfLulAdkI/...   \n",
      "4445     c0eaae17997bc187  https://lh6.googleusercontent.com/-0HUcDwJ49tk...   \n",
      "4461     0f6f008fd9d65c73  https://lh3.googleusercontent.com/-rMC04Ry4410...   \n",
      "4470     c88aaf9c3917d342  https://lh3.googleusercontent.com/-LGdJtu_zp40...   \n",
      "...                   ...                                                ...   \n",
      "1220804  ada368b8ab6a9402  https://lh5.googleusercontent.com/-tHOockBefXI...   \n",
      "1221010  edc5133d9dfabbb4  https://lh3.googleusercontent.com/-iTNBAsSfJcg...   \n",
      "1221034  df5796fba278f983  http://lh5.ggpht.com/-Su_ttJ5uIVY/TdbA7b31p7I/...   \n",
      "1221075  6e923ae6be431926  http://lh5.ggpht.com/-FJG3NHKrY9k/SexduSVDjmI/...   \n",
      "1221196  241081de3d8aefa1  https://lh5.googleusercontent.com/-yKmf_OOBygs...   \n",
      "1221390  676d1e68ab81f9b0  http://lh4.ggpht.com/-raXGR-TwLEU/Ss3EGgpoXnI/...   \n",
      "1221458  5ce14e03ffb198cd  http://lh4.ggpht.com/-4yUlBbML1Y8/R7w_YAD_i4I/...   \n",
      "1221554  e49d711d20641d83  http://lh6.ggpht.com/-kdbnwfv1fko/R31US2aBKyI/...   \n",
      "1221807  8c64ae882d9aa85b  http://lh3.ggpht.com/-ZWpKFxJxXLw/Rmy_T1gH3AI/...   \n",
      "1221813  8b734ac8f89265bf  https://lh5.googleusercontent.com/-n5m0GhGVV6w...   \n",
      "1222210  377a4d339b21b8e5  http://lh4.ggpht.com/-mu82ZeTvGM4/S15vy2xuxhI/...   \n",
      "1222297  bd5951eccb56dede  http://lh6.ggpht.com/-dAJGBcS1zio/Sj1hLryeI8I/...   \n",
      "1222319  ca6b165b0c878179  https://lh6.googleusercontent.com/-vHsa3uyvAnQ...   \n",
      "1222376  e88832966740f08b  http://lh6.ggpht.com/-71MO1TQc4Y4/R64NI9ykPSI/...   \n",
      "1222435  8d5ef95e23409dee  https://lh5.googleusercontent.com/-abYRKiVDwmg...   \n",
      "1222529  faee17e963ca229b  https://lh5.googleusercontent.com/-f8X7eaNGNMk...   \n",
      "1222622  9d418c2db5765c06  http://lh3.ggpht.com/-IcTMkfcavWE/SBgSPZqVIHI/...   \n",
      "1222707  b6972ab29b929502  https://lh5.googleusercontent.com/-FCfLCws_G64...   \n",
      "1222984  e35bb35eae90f5f0  https://lh5.googleusercontent.com/-d7oHgI5gHSc...   \n",
      "1223615  bb3943fbb944edb4  http://lh6.ggpht.com/-6oTLqAbIrEc/R2vTg63XovI/...   \n",
      "1223827  f22a913c8d953aca  https://lh5.googleusercontent.com/-yHtI3UyxrbU...   \n",
      "1223859  8b2a4af89398c7bb  http://lh6.ggpht.com/--27Peg2-v3w/R2K45WVW9uI/...   \n",
      "1224121  e03aa02b590dc703  https://lh5.googleusercontent.com/-jgD64YzSt7Q...   \n",
      "1224249  94b75618520be809  https://lh5.googleusercontent.com/-p30TCV3OrWE...   \n",
      "1224317  946a74eb568b8551  http://lh4.ggpht.com/-AG8zntKZrHI/Su_3cKGAt8I/...   \n",
      "1224339  256d91cd8e9c66b7  http://lh6.ggpht.com/-cwTeLhu1ocU/SfKEcdteEFI/...   \n",
      "1224471  74b45ba122712e6f  https://lh5.googleusercontent.com/-9TC9zJusHwo...   \n",
      "1224653  5022760f1d212fcf  https://lh3.googleusercontent.com/-_BC7rk7eiMg...   \n",
      "1224711  1ff99143e8c82dc7  https://lh3.googleusercontent.com/-AOczJDZeysE...   \n",
      "1224733  0a836f52dcbd19c8  http://lh5.ggpht.com/-Qeoz3t_ukLE/TF8GwHAhfLI/...   \n",
      "\n",
      "        landmark_id  \n",
      "782            9633  \n",
      "960            4352  \n",
      "1287           6599  \n",
      "1830           5046  \n",
      "1904           6696  \n",
      "2009           2743  \n",
      "2281           8429  \n",
      "2389           5376  \n",
      "2634           6696  \n",
      "2730          11784  \n",
      "2879          12220  \n",
      "2945           6476  \n",
      "3231           5376  \n",
      "3397           6651  \n",
      "3623           7008  \n",
      "3704           7764  \n",
      "3707            428  \n",
      "3782          11249  \n",
      "3837           7764  \n",
      "3839           6696  \n",
      "3868           6051  \n",
      "3904           1546  \n",
      "4045           6651  \n",
      "4092           6051  \n",
      "4163          13653  \n",
      "4258           6651  \n",
      "4400           9999  \n",
      "4445           9633  \n",
      "4461           4644  \n",
      "4470           9434  \n",
      "...             ...  \n",
      "1220804       13526  \n",
      "1221010        3426  \n",
      "1221034        4954  \n",
      "1221075       12647  \n",
      "1221196        9779  \n",
      "1221390        3426  \n",
      "1221458        6696  \n",
      "1221554       12647  \n",
      "1221807        6599  \n",
      "1221813        9633  \n",
      "1222210       10026  \n",
      "1222297        2743  \n",
      "1222319       12172  \n",
      "1222376        9779  \n",
      "1222435        6599  \n",
      "1222529        7661  \n",
      "1222622        3804  \n",
      "1222707        9633  \n",
      "1222984        9633  \n",
      "1223615        5376  \n",
      "1223827        9633  \n",
      "1223859        6476  \n",
      "1224121        7420  \n",
      "1224249       11249  \n",
      "1224317       13653  \n",
      "1224339        9434  \n",
      "1224471        6051  \n",
      "1224653        6051  \n",
      "1224711        9633  \n",
      "1224733        3426  \n",
      "\n",
      "[8576 rows x 3 columns]\n"
     ]
    }
   ],
   "source": [
    "sampling_rate = 0.02\n",
    "random_state = 0\n",
    "landmarks=train_df.groupby(by='landmark_id').count().loc[:,\"id\"]\n",
    "lmark_descend = landmarks.sort_values(ascending=False)[0:101]\n",
    "#print(lmark_descend.index)  \n",
    "\n",
    "train_ordered = train_df[train_df.landmark_id.isin(lmark_descend.index)]\n",
    "#print(train_ordered)\n",
    "sample_gby = train_ordered.groupby(by = \"landmark_id\").apply(lambda x: x.sample(frac=sampling_rate, random_state=random_state))\n",
    "\n",
    "sample_idx = sample_gby.index.levels[1]\n",
    "train_sample = train_df.iloc[sample_idx, :]\n",
    "print(train_sample)"
   ]
  },
  {
   "cell_type": "code",
   "execution_count": 15,
   "metadata": {},
   "outputs": [],
   "source": [
    "re_sampled_train_path = r\"C:\\Users\\Abhishek\\Desktop\\keras_try\\re-trained_data.csv\"\n",
    "resampled_pd = pd.read_csv(re_sampled_train_path)\n"
   ]
  },
  {
   "cell_type": "code",
   "execution_count": 21,
   "metadata": {},
   "outputs": [],
   "source": [
    "def convert_img_to_array(path,sample):\n",
    "    img_label_dict = {}\n",
    "    sample_match = path.split('\\\\')\n",
    "    counter =0\n",
    "    if \"Train_images\" in sample_match:\n",
    "        type_of_dataset = \"Train_images\"\n",
    "    else:\n",
    "        type_of_dataset = \"Validation_images\"\n",
    "    \n",
    "    all_files = os.listdir(path)\n",
    "    full_file_path = [path+\"\\\\\"+each_file for each_file in all_files ]\n",
    "    full_file_path =[each_file.replace('\\\\','/') for each_file in full_file_path]\n",
    "    each_file_path, labels_out = [],[]\n",
    "    for each_file in full_file_path:\n",
    "        match = re.search(\"(?<={0}/)\\S+(?=.jpg)\".format(type_of_dataset),each_file)\n",
    "        uniq_id = sample[sample[\"id\"]==match.group()]['landmark_id']\n",
    "        #print(uniq_id.item())\n",
    "        #print(each_file)\n",
    "        \n",
    "        try:\n",
    "            labels_out.append(uniq_id.item())\n",
    "        except ValueError:\n",
    "            continue\n",
    "        each_file_path.append(each_file)\n",
    "    \n",
    "    processed_df = pd.DataFrame({\"full file path\":each_file_path,\"label\":labels_out})\n",
    "        #img_label_dict[] = uniq_id\n",
    "        \n",
    "    return processed_df    "
   ]
  },
  {
   "cell_type": "code",
   "execution_count": 22,
   "metadata": {},
   "outputs": [],
   "source": [
    "path = r\"C:\\Users\\Abhishek\\Desktop\\keras_try\\Train_images\"\n",
    "img_path_class_df = convert_img_to_array(path,resampled_pd)\n",
    "#print(img_path_class_df['full file path'])\n"
   ]
  },
  {
   "cell_type": "code",
   "execution_count": null,
   "metadata": {},
   "outputs": [],
   "source": []
  },
  {
   "cell_type": "code",
   "execution_count": 18,
   "metadata": {},
   "outputs": [],
   "source": [
    "train_gen = ImageDataGenerator(rescale=1/255,)"
   ]
  },
  {
   "cell_type": "code",
   "execution_count": 19,
   "metadata": {},
   "outputs": [
    {
     "name": "stdout",
     "output_type": "stream",
     "text": [
      "Found 7407 images belonging to 100 classes.\n"
     ]
    }
   ],
   "source": [
    "train_generator = train_gen.flow_from_dataframe(\n",
    "    dataframe = img_path_class_df,\n",
    "    directory=None,\n",
    "    x_col=\"full file path\",\n",
    "    y_col=\"label\",\n",
    "    weight_col=None,\n",
    "    target_size=(128,128),\n",
    "    color_mode=\"rgb\",\n",
    "    class_mode=\"categorical\",\n",
    "    batch_size=32,\n",
    "    shuffle=True,\n",
    "    seed=None)"
   ]
  },
  {
   "cell_type": "code",
   "execution_count": 52,
   "metadata": {},
   "outputs": [
    {
     "name": "stdout",
     "output_type": "stream",
     "text": [
      "Epoch 1/10\n",
      "32/32 [==============================] - 60s 2s/step - loss: 0.0544 - acc: 0.1006\n",
      "Epoch 2/10\n",
      "32/32 [==============================] - 46s 1s/step - loss: 0.0494 - acc: 0.1213\n",
      "Epoch 3/10\n",
      "32/32 [==============================] - 33s 1s/step - loss: 0.0497 - acc: 0.1240\n",
      "Epoch 4/10\n",
      "32/32 [==============================] - 33s 1s/step - loss: 0.0485 - acc: 0.1211\n",
      "Epoch 5/10\n",
      "32/32 [==============================] - 35s 1s/step - loss: 0.0493 - acc: 0.1035\n",
      "Epoch 6/10\n",
      "32/32 [==============================] - 33s 1s/step - loss: 0.0491 - acc: 0.1191\n",
      "Epoch 7/10\n",
      "32/32 [==============================] - 33s 1s/step - loss: 0.0491 - acc: 0.1318\n",
      "Epoch 8/10\n",
      "32/32 [==============================] - 33s 1s/step - loss: 0.0476 - acc: 0.1338\n",
      "Epoch 9/10\n",
      "32/32 [==============================] - 33s 1s/step - loss: 0.0490 - acc: 0.1221\n",
      "Epoch 10/10\n",
      "32/32 [==============================] - 34s 1s/step - loss: 0.0484 - acc: 0.1270\n"
     ]
    }
   ],
   "source": [
    "epochs = 2\n",
    "checkpointer = ModelCheckpoint(filepath=r'C:\\Users\\Abhishek\\Desktop\\keras_try\\saved_models\\weights.best.from_baseCNN.hdf5', \n",
    "                               verbose=1, save_best_only=True)\n",
    "\n",
    "hist = model.fit_generator(train_generator,epochs=10,steps_per_epoch=32)\n",
    "    "
   ]
  },
  {
   "cell_type": "code",
   "execution_count": 29,
   "metadata": {},
   "outputs": [
    {
     "name": "stdout",
     "output_type": "stream",
     "text": [
      "000edceb2acb414b.jpg\n",
      "<PIL.JpegImagePlugin.JpegImageFile image mode=RGB size=1600x1200 at 0xA7672F3358>\n",
      "[[[151 182 213]\n",
      "  [151 182 213]\n",
      "  [151 182 213]\n",
      "  ...\n",
      "  [211 218 224]\n",
      "  [212 219 225]\n",
      "  [212 219 225]]\n",
      "\n",
      " [[151 182 213]\n",
      "  [151 182 213]\n",
      "  [151 182 213]\n",
      "  ...\n",
      "  [212 219 225]\n",
      "  [212 219 225]\n",
      "  [213 220 226]]\n",
      "\n",
      " [[151 182 213]\n",
      "  [151 182 213]\n",
      "  [151 182 213]\n",
      "  ...\n",
      "  [213 220 226]\n",
      "  [213 220 226]\n",
      "  [213 220 226]]\n",
      "\n",
      " ...\n",
      "\n",
      " [[130 131 126]\n",
      "  [130 131 126]\n",
      "  [131 132 127]\n",
      "  ...\n",
      "  [116 119 110]\n",
      "  [116 119 110]\n",
      "  [116 119 110]]\n",
      "\n",
      " [[119 118 114]\n",
      "  [122 121 117]\n",
      "  [126 125 121]\n",
      "  ...\n",
      "  [119 122 113]\n",
      "  [119 122 113]\n",
      "  [119 122 113]]\n",
      "\n",
      " [[ 80  79  75]\n",
      "  [ 84  83  79]\n",
      "  [ 90  89  85]\n",
      "  ...\n",
      "  [122 125 116]\n",
      "  [122 125 116]\n",
      "  [122 125 116]]]\n"
     ]
    },
    {
     "ename": "ZeroDivisionError",
     "evalue": "division by zero",
     "output_type": "error",
     "traceback": [
      "\u001b[1;31m---------------------------------------------------------------------------\u001b[0m",
      "\u001b[1;31mZeroDivisionError\u001b[0m                         Traceback (most recent call last)",
      "\u001b[1;32m<ipython-input-29-4b99005913d2>\u001b[0m in \u001b[0;36m<module>\u001b[1;34m\u001b[0m\n\u001b[0;32m      1\u001b[0m \u001b[0mpath\u001b[0m \u001b[1;33m=\u001b[0m \u001b[1;34mr\"C:\\Users\\Abhishek\\Desktop\\keras_try\\Train_images\"\u001b[0m\u001b[1;33m\u001b[0m\u001b[1;33m\u001b[0m\u001b[0m\n\u001b[1;32m----> 2\u001b[1;33m \u001b[0mconvert_img_to_array\u001b[0m\u001b[1;33m(\u001b[0m\u001b[0mpath\u001b[0m\u001b[1;33m)\u001b[0m\u001b[1;33m\u001b[0m\u001b[1;33m\u001b[0m\u001b[0m\n\u001b[0m",
      "\u001b[1;32m<ipython-input-28-95a4c04b5922>\u001b[0m in \u001b[0;36mconvert_img_to_array\u001b[1;34m(path)\u001b[0m\n\u001b[0;32m     19\u001b[0m         \u001b[0mimage_array\u001b[0m \u001b[1;33m=\u001b[0m \u001b[0mnp\u001b[0m\u001b[1;33m.\u001b[0m\u001b[0masarray\u001b[0m\u001b[1;33m(\u001b[0m\u001b[0mim\u001b[0m\u001b[1;33m)\u001b[0m\u001b[1;33m\u001b[0m\u001b[1;33m\u001b[0m\u001b[0m\n\u001b[0;32m     20\u001b[0m         \u001b[0mprint\u001b[0m\u001b[1;33m(\u001b[0m\u001b[0mimage_array\u001b[0m\u001b[1;33m)\u001b[0m\u001b[1;33m\u001b[0m\u001b[1;33m\u001b[0m\u001b[0m\n\u001b[1;32m---> 21\u001b[1;33m         \u001b[1;36m0\u001b[0m\u001b[1;33m/\u001b[0m\u001b[1;36m0\u001b[0m\u001b[1;33m\u001b[0m\u001b[1;33m\u001b[0m\u001b[0m\n\u001b[0m\u001b[0;32m     22\u001b[0m \u001b[1;33m\u001b[0m\u001b[0m\n",
      "\u001b[1;31mZeroDivisionError\u001b[0m: division by zero"
     ]
    }
   ],
   "source": [
    "\n",
    "convert_img_to_array(path)"
   ]
  }
 ],
 "metadata": {
  "celltoolbar": "Slideshow",
  "kernelspec": {
   "display_name": "Python 3",
   "language": "python",
   "name": "python3"
  },
  "language_info": {
   "codemirror_mode": {
    "name": "ipython",
    "version": 3
   },
   "file_extension": ".py",
   "mimetype": "text/x-python",
   "name": "python",
   "nbconvert_exporter": "python",
   "pygments_lexer": "ipython3",
   "version": "3.7.3"
  }
 },
 "nbformat": 4,
 "nbformat_minor": 2
}
